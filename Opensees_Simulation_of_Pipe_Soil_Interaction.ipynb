{
 "cells": [
  {
   "cell_type": "markdown",
   "id": "9d4f8c3a-b4a7-4aec-930a-610eb9e0863a",
   "metadata": {},
   "source": [
    "# Loading the libraries"
   ]
  },
  {
   "cell_type": "code",
   "execution_count": 1,
   "id": "83795475-7cf9-47e2-aa2f-8538872867df",
   "metadata": {},
   "outputs": [],
   "source": [
    "import numpy as np\n",
    "import openseespy.opensees as ops\n",
    "import pandas as pd\n",
    "import matplotlib.pyplot as plt\n",
    "from mpl_toolkits.mplot3d import Axes3D\n",
    "import bisect\n",
    "import math\n",
    "import os\n",
    "from openpyxl import load_workbook\n",
    "import random"
   ]
  },
  {
   "cell_type": "markdown",
   "id": "7e40c130-9ab7-4796-976c-b244d42d9b1c",
   "metadata": {},
   "source": [
    "# Functions"
   ]
  },
  {
   "cell_type": "markdown",
   "id": "c668ebc5-b4a0-4b78-bde4-d62b263ebc60",
   "metadata": {},
   "source": [
    "## Function to Initialize the Model"
   ]
  },
  {
   "cell_type": "code",
   "execution_count": 2,
   "id": "7e407a11-417c-451d-9e95-6636d0f5c92d",
   "metadata": {},
   "outputs": [],
   "source": [
    "# 1. Initialize the model\n",
    "def initialize_model():\n",
    "    ''' Initialize the model and wipe the previous session. '''\n",
    "    ops.wipe()  # Clear any previous model\n",
    "    ops.model('basic', '-ndm', 3, '-ndf', 6)  # 3D model with 6 DOFs per node\n"
   ]
  },
  {
   "cell_type": "code",
   "execution_count": 3,
   "id": "0d8e9acc-fb0d-4ec9-bc62-ae74397d7099",
   "metadata": {},
   "outputs": [],
   "source": [
    "initialize_model()"
   ]
  },
  {
   "cell_type": "markdown",
   "id": "d4cb0ab6-5125-4be0-9e02-e9dbc8bacb3a",
   "metadata": {},
   "source": [
    " ## Function to Define Pipe Material and create Nodes"
   ]
  },
  {
   "cell_type": "code",
   "execution_count": 4,
   "id": "8d46760f-4417-4a9f-b214-f4e0888f3c21",
   "metadata": {},
   "outputs": [],
   "source": [
    "# 2. Define Pipe Material (Elastic Isotropic for 3D Pipe)\n",
    "def define_pipe_material(E_pipe, nu_pipe, rho_pipe):\n",
    "    ''' \n",
    "    Define pipe material properties: Young's modulus, Poisson's ratio, and density.\n",
    "    '''\n",
    "    ops.nDMaterial('ElasticIsotropic', 1, E_pipe, nu_pipe, rho_pipe)"
   ]
  },
  {
   "cell_type": "code",
   "execution_count": 5,
   "id": "33b4c954-8b72-415c-8c8d-f88174be690a",
   "metadata": {},
   "outputs": [],
   "source": [
    "# # 3. Creating the pipe nodes\n",
    "# def create_pipe_nodes(pipe_radius, pipe_length):\n",
    "#     global pipe_nodes\n",
    "#     ''' Create pipe nodes in a 3D space. '''\n",
    "#     half_length = pipe_length / 2\n",
    "#     pipe_nodes = [\n",
    "#         [-half_length, -pipe_radius, -pipe_radius],\n",
    "#         [half_length, -pipe_radius, -pipe_radius],\n",
    "#         [half_length, pipe_radius, -pipe_radius],\n",
    "#         [-half_length, pipe_radius, -pipe_radius],\n",
    "#         [-half_length, -pipe_radius, pipe_radius],\n",
    "#         [half_length, -pipe_radius, pipe_radius],\n",
    "#         [half_length, pipe_radius, pipe_radius],\n",
    "#         [-half_length, pipe_radius, pipe_radius]\n",
    "#     ]\n",
    "#     return pipe_nodes"
   ]
  },
  {
   "cell_type": "code",
   "execution_count": 6,
   "id": "a1c2bc25-4461-4930-9c9e-596c76c7a9ed",
   "metadata": {},
   "outputs": [],
   "source": [
    "# 3. Creating the pipe nodes\n",
    "def create_pipe_nodes(pipe_radius, pipe_length):\n",
    "    global pipe_nodes\n",
    "    ''' Create pipe nodes in a 3D space and define them in OpenSees. '''\n",
    "    half_length = pipe_length / 2\n",
    "    pipe_nodes = [\n",
    "        [-half_length, -pipe_radius, -pipe_radius],\n",
    "        [half_length, -pipe_radius, -pipe_radius],\n",
    "        [half_length, pipe_radius, -pipe_radius],\n",
    "        [-half_length, pipe_radius, -pipe_radius],\n",
    "        [-half_length, -pipe_radius, pipe_radius],\n",
    "        [half_length, -pipe_radius, pipe_radius],\n",
    "        [half_length, pipe_radius, pipe_radius],\n",
    "        [-half_length, pipe_radius, pipe_radius]\n",
    "    ]\n",
    "    \n",
    "    # Define nodes in OpenSees with unique identifiers\n",
    "    for i in range(len(pipe_nodes)):\n",
    "        node_id = i + 1  # Node IDs start from 1\n",
    "        coords = pipe_nodes[i]\n",
    "        ops.node(node_id, coords[0], coords[1], coords[2])\n",
    "        print(f\"Node {node_id} created at {coords}\")\n",
    "\n",
    "    return pipe_nodes"
   ]
  },
  {
   "cell_type": "code",
   "execution_count": 7,
   "id": "797f577e-1866-42dd-a337-98af9d3780e5",
   "metadata": {},
   "outputs": [],
   "source": [
    "# def create_pipe_nodes(pipe_radius, pipe_length):\n",
    "#     global pipe_nodes\n",
    "#     ''' Create pipe nodes in a 3D space and define them in OpenSees. '''\n",
    "#     half_length = pipe_length / 2\n",
    "#     pipe_nodes = [\n",
    "#         [-half_length, -pipe_radius, -pipe_radius],\n",
    "#     ]\n",
    "    \n",
    "#     # Define nodes in OpenSees with unique identifiers\n",
    "#     for i in range(len(pipe_nodes)):\n",
    "#         node_id = i + 1  # Node IDs start from 1\n",
    "#         coords = pipe_nodes[i]\n",
    "#         ops.node(node_id, coords[0], coords[1], coords[2])\n",
    "#         print(f\"Node {node_id} created at {coords}\")\n",
    "\n",
    "#     return pipe_nodes"
   ]
  },
  {
   "cell_type": "code",
   "execution_count": 8,
   "id": "689de4f8-17af-4c58-bc3c-f9b9ebbbb3a1",
   "metadata": {},
   "outputs": [
    {
     "name": "stdout",
     "output_type": "stream",
     "text": [
      "Node 1 created at [-50.0, -1.27, -1.27]\n",
      "Node 2 created at [50.0, -1.27, -1.27]\n",
      "Node 3 created at [50.0, 1.27, -1.27]\n",
      "Node 4 created at [-50.0, 1.27, -1.27]\n",
      "Node 5 created at [-50.0, -1.27, 1.27]\n",
      "Node 6 created at [50.0, -1.27, 1.27]\n",
      "Node 7 created at [50.0, 1.27, 1.27]\n",
      "Node 8 created at [-50.0, 1.27, 1.27]\n"
     ]
    }
   ],
   "source": [
    "pipe_radius = 1.27   \n",
    "pipe_length = 100\n",
    "pipe_nodes = create_pipe_nodes(pipe_radius, pipe_length)"
   ]
  },
  {
   "cell_type": "markdown",
   "id": "120d3ffb-c3d9-4816-98b0-bbd92f9c8639",
   "metadata": {},
   "source": [
    "# Functions to Create and Update Soil Materials"
   ]
  },
  {
   "cell_type": "code",
   "execution_count": 9,
   "id": "76d1de4b-5abf-4e85-a4f8-0adb40a8405d",
   "metadata": {},
   "outputs": [],
   "source": [
    "#4. Function to update soil material properties (E_soil) based on temperature\n",
    "def update_soil_material(prev_temp, temp_E_pairs, nu_soil):\n",
    "    ''' Update Young's modulus of soil based on temperature. '''\n",
    "    temperatures, E_values = zip(*temp_E_pairs)\n",
    "    \n",
    "    if prev_temp <= temperatures[0]:\n",
    "        E_soil = E_values[0]\n",
    "    elif prev_temp >= temperatures[-1]:\n",
    "        E_soil = E_values[-1]\n",
    "    else:\n",
    "        idx = bisect.bisect_right(temperatures, prev_temp)\n",
    "        t0, t1 = temperatures[idx-1], temperatures[idx]\n",
    "        E0, E1 = E_values[idx-1], E_values[idx]\n",
    "        E_soil = E0 + (E1 - E0) * (prev_temp - t0) / (t1 - t0)\n",
    "    \n",
    "    return E_soil  # Return the calculated Young's modulus for the given temperature"
   ]
  },
  {
   "cell_type": "code",
   "execution_count": 10,
   "id": "02b97fae-7a8e-4d3e-b41c-1d79dae879b4",
   "metadata": {},
   "outputs": [],
   "source": [
    "# 4. Define Soil Material (Elastic with Freeze-Thaw)\n",
    "def define_soil_material(E_soil_frozen, E_soil_thawed, nu_soil):\n",
    "    ''' Define frozen and thawed soil materials using Elastic material model. '''\n",
    "    ops.uniaxialMaterial('Elastic', 9, E_soil_frozen)  # Frozen soil material\n",
    "    ops.uniaxialMaterial('Elastic', 10, E_soil_thawed)  # Thawed soil material"
   ]
  },
  {
   "cell_type": "code",
   "execution_count": 11,
   "id": "6ca73221-357d-48e2-85c7-58c42206d772",
   "metadata": {},
   "outputs": [],
   "source": [
    "# 5. Creating the soil nodes\n",
    "def create_soil_nodes(num_nodes_per_side, soil_size):\n",
    "    ''' Create 3D grid of soil nodes. '''\n",
    "    node_counter = 9\n",
    "    soil_nodes = {}\n",
    "    spacing = soil_size / (num_nodes_per_side - 1)\n",
    "    \n",
    "    for i in range(num_nodes_per_side):\n",
    "        for j in range(num_nodes_per_side):\n",
    "            for k in range(num_nodes_per_side):\n",
    "                x = i * spacing - soil_size / 2\n",
    "                y = j * spacing - soil_size / 2\n",
    "                z = k * spacing - soil_size / 2\n",
    "                ops.node(node_counter, x, y, z)\n",
    "                soil_nodes[node_counter] = (x, y, z)\n",
    "                node_counter += 1\n",
    "    return soil_nodes"
   ]
  },
  {
   "cell_type": "code",
   "execution_count": 12,
   "id": "6f906e5a-7930-4b52-990d-5413ecbba93e",
   "metadata": {},
   "outputs": [],
   "source": [
    "num_nodes_per_side = 8\n",
    "soil_size = 1000\n",
    "\n",
    "soil_nodes = create_soil_nodes(num_nodes_per_side, soil_size)"
   ]
  },
  {
   "cell_type": "markdown",
   "id": "9174fcf6-b800-4489-a31d-b973a5621b7b",
   "metadata": {},
   "source": [
    "## Function to Create Pipe_Soil Interaction"
   ]
  },
  {
   "cell_type": "code",
   "execution_count": 13,
   "id": "87924c1c-5237-452b-aa8e-7291b6b01aaa",
   "metadata": {},
   "outputs": [],
   "source": [
    "# 6. Find the closest soil node to the pipe node\n",
    "def find_closest_soil_node(pipe_node, soil_nodes):\n",
    "    ''' Find the closest soil node to the given pipe node. '''\n",
    "    closest_node = None\n",
    "    min_distance = float('inf')\n",
    "    for node_id, coords in soil_nodes.items():\n",
    "        distance = sum((p - s)**2 for p, s in zip(pipe_node, coords))**0.5\n",
    "        if distance < min_distance:\n",
    "            min_distance = distance\n",
    "            closest_node = node_id\n",
    "    return closest_node\n"
   ]
  },
  {
   "cell_type": "code",
   "execution_count": 14,
   "id": "a12b3346-debe-4c1a-a453-4fed14f42cb8",
   "metadata": {},
   "outputs": [],
   "source": [
    "# 7. Pipe Soil Interaction\n",
    "def create_pipe_soil_interaction_elements(pipe_nodes, soil_nodes, spring_stiffness, area=1.0):\n",
    "    ''' Create pipe-soil interaction elements (springs between pipe and soil). '''\n",
    "    element_counter = 1\n",
    "    ops.uniaxialMaterial('Elastic', 1, spring_stiffness)  # Material with tag 1 and spring stiffness\n",
    "    \n",
    "    for i, pipe_node in enumerate(pipe_nodes):\n",
    "        closest_soil_node = find_closest_soil_node(pipe_node, soil_nodes)\n",
    "        \n",
    "        pipe_node_id = i + 1\n",
    "        soil_node_id = closest_soil_node\n",
    "        \n",
    "        try:\n",
    "            ops.element('truss', element_counter, pipe_node_id, soil_node_id, area, 1)\n",
    "        except Exception as e:\n",
    "            print(f\"Error creating truss element: {e}\")\n",
    "        \n",
    "        element_counter += 1"
   ]
  },
  {
   "cell_type": "markdown",
   "id": "a11f364c-46ed-438c-b5b0-1568fafb81b3",
   "metadata": {},
   "source": [
    "## Funtion to Calculate the displacement of pipe"
   ]
  },
  {
   "cell_type": "code",
   "execution_count": 15,
   "id": "1aacc09e-3c2f-4226-a7bf-deb747ab39a7",
   "metadata": {},
   "outputs": [],
   "source": [
    "# 10. Calculating the displacment\n",
    "def calculate_displacement(pressure, pipe_radius, E_pipe, pipe_thickness):\n",
    "    # Hoop stress calculation\n",
    "    hoop_stress = (pressure * pipe_radius) / pipe_thickness\n",
    "    \n",
    "    # Radial displacement calculation\n",
    "    displacement = (pressure * pipe_radius**2) / (E_pipe * pipe_thickness)\n",
    "    \n",
    "    return displacement"
   ]
  },
  {
   "cell_type": "markdown",
   "id": "36ed9f27-097a-464c-8354-1a9007a2cfb2",
   "metadata": {},
   "source": [
    "## Function to Calculate Pressure at Pipe Node"
   ]
  },
  {
   "cell_type": "code",
   "execution_count": 41,
   "id": "40497d70-c476-4765-842e-d7e3b6b267cf",
   "metadata": {},
   "outputs": [],
   "source": [
    "# 8. Calculate Pressure at Pipe Node\n",
    "def calculate_pressure_at_node(temp, prev_temp, radius, burst_pressure, K_water=2.2e9, alpha_pipe=0.000012):\n",
    "    ''' Calculate pressure at pipe node based on temperature change. '''\n",
    "    initial_volume = math.pi * radius ** 2\n",
    "    new_radius = radius * (1 + alpha_pipe * (temp - prev_temp))  \n",
    "    new_volume = math.pi * new_radius ** 2\n",
    "    volume_change = new_volume - initial_volume\n",
    "\n",
    "    total_pressure = burst_pressure  # Start with the burst pressure as a base\n",
    "\n",
    "    # Temperature-induced pressure changes\n",
    "    alpha_water = 0.00021\n",
    "    temp_change = temp - prev_temp\n",
    "    thermal_pressure = K_water * alpha_water * temp_change\n",
    "    total_pressure += thermal_pressure\n",
    "\n",
    "    # Freezing-related pressure changes\n",
    "    if temp < 0:\n",
    "        freezing_expansion_factor = 0.09\n",
    "        freezing_volume_change = initial_volume * freezing_expansion_factor\n",
    "        pressure_increase_freezing = K_water * (freezing_volume_change / initial_volume)\n",
    "        total_pressure += pressure_increase_freezing\n",
    "\n",
    "    # Thawing-related pressure changes\n",
    "    if prev_temp < 0 and temp >= 0:\n",
    "        thaw_pressure_factor = 1.5\n",
    "        total_pressure *= thaw_pressure_factor\n",
    "\n",
    "    return max(0, total_pressure)  # Ensure pressure is non-negative"
   ]
  },
  {
   "cell_type": "code",
   "execution_count": 42,
   "id": "8e99a5ac-e2b3-47a6-aa22-2be5fb5e43c5",
   "metadata": {},
   "outputs": [],
   "source": [
    "def estimate_burst_location(pipe_nodes, burst_pressure, temp, prev_temp, pipe_radius, spring_stiffness, pipe_length, nu_soil, E_pipe, pipe_thickness):\n",
    "    burst_results = []\n",
    "    \n",
    "    for i, pipe_node in enumerate(pipe_nodes):\n",
    "        # Calculate the pressure at the current pipe node\n",
    "        pressure_at_node = calculate_pressure_at_node(temp, prev_temp, pipe_radius, burst_pressure)\n",
    "        \n",
    "        # Calculate the new radius and new volume at this node\n",
    "        initial_radius = pipe_radius  # Use the initial pipe radius\n",
    "        alpha_pipe = 16.5e-6\n",
    "        new_radius = initial_radius * (1 + alpha_pipe * (temp - prev_temp))  # Temperature-induced change in radius\n",
    "        new_volume = math.pi * new_radius ** 2  # Calculate the new volume based on the new radius\n",
    "        \n",
    "        # Check if the pipe bursts at this node\n",
    "        burst_pipe = pressure_at_node > burst_pressure\n",
    "        \n",
    "        # Update soil material properties based on temperature\n",
    "        E_soil = update_soil_material(temp, temp_E_pairs, nu_soil)\n",
    "\n",
    "        # Calculate displacement caused by pressure\n",
    "        displacement = calculate_displacement(pressure_at_node, pipe_radius, E_pipe, pipe_thickness)\n",
    "        \n",
    "        # Append results for this node, including new_radius and new_volume\n",
    "        burst_results.append({\n",
    "            'pipe_node': pipe_node,\n",
    "            'pressure_at_node': pressure_at_node,\n",
    "            'burst_pressure': burst_pressure,\n",
    "            'burst_occurred': burst_pipe,\n",
    "            'E_soil': E_soil,\n",
    "            'spring_stiffness': spring_stiffness,\n",
    "            'displacement': displacement,\n",
    "            'new_radius': new_radius,   # Store the new radius\n",
    "            'new_volume': new_volume    # Store the new volume\n",
    "        })\n",
    "    \n",
    "    return burst_results\n"
   ]
  },
  {
   "cell_type": "markdown",
   "id": "23d41bdf-c2e6-4f74-88ef-291f1811299f",
   "metadata": {},
   "source": [
    "## Function to Save the Result"
   ]
  },
  {
   "cell_type": "code",
   "execution_count": 43,
   "id": "aab2a070-c0b7-4230-9fe5-c8d699e3ab5c",
   "metadata": {},
   "outputs": [],
   "source": [
    "def save_results_to_excel(all_results, temp_values, prev_temp_values, burst_pressure, output_path):\n",
    "    with pd.ExcelWriter(output_path, engine='openpyxl') as writer:\n",
    "        # Create an initial dummy sheet to avoid the \"no visible sheet\" error\n",
    "        dummy_df = pd.DataFrame(columns=['Temp', 'Prev Temp', 'Dummy'])\n",
    "        dummy_df.to_excel(writer, sheet_name=\"Dummy\", index=False)\n",
    "\n",
    "        # Loop over all the results for each analysis cycle\n",
    "        for i, burst_results in enumerate(all_results):\n",
    "            # Get the temp and prev_temp for the current analysis cycle\n",
    "            temp = temp_values[i]\n",
    "            prev_temp = prev_temp_values[i]\n",
    "            \n",
    "            # Prepare data for this analysis cycle\n",
    "            data = []\n",
    "            for result in burst_results:\n",
    "                # Access the dictionary keys to get values\n",
    "                pipe_node = result['pipe_node']\n",
    "                E_soil = result['E_soil']\n",
    "                pressure_at_node = result['pressure_at_node']\n",
    "                spring_stiffness_at_node = result['spring_stiffness']\n",
    "                pipe_burst_pressure = result['burst_pressure']\n",
    "                burst_occurred = result['burst_occurred']\n",
    "                displacement = result['displacement'] \n",
    "                new_radius = result['new_radius']  # Get new_radius\n",
    "                new_volume = result['new_volume']  # Get new_volume\n",
    "                \n",
    "                # Add the temp, prev_temp, and constant burst pressure values for this cycle\n",
    "                data.append([pipe_node, E_soil, pressure_at_node, spring_stiffness_at_node, \n",
    "                             pipe_burst_pressure, burst_occurred, temp, prev_temp, burst_pressure, displacement, new_radius, new_volume])\n",
    "            \n",
    "            # Convert the results into a DataFrame\n",
    "            df = pd.DataFrame(data, columns=[ \n",
    "                'Pipe Node', 'Soil Modulus (E_soil)', 'Pressure at Node', 'Spring Stiffness',\n",
    "                'Pipe Burst Pressure', 'Burst Occurred', 'Temp', 'Prev Temp', 'Constant Burst Pressure', \"Displacement\", \"New Radius\", \"New Volume\"\n",
    "            ])\n",
    "            \n",
    "            # Save each analysis cycle to a separate sheet\n",
    "            df.to_excel(writer, sheet_name=f\"Analysis_{i + 1}\", index=False)\n"
   ]
  },
  {
   "cell_type": "markdown",
   "id": "62e1d5e3-e313-4804-b72a-1abdba7fbec0",
   "metadata": {},
   "source": [
    "## Function to Run the Analysis for various Temp and Prev_Temp"
   ]
  },
  {
   "cell_type": "code",
   "execution_count": 44,
   "id": "3fbfe71b-49f5-45bf-bd42-263fbfb04652",
   "metadata": {},
   "outputs": [],
   "source": [
    "# Create a list of temperature-E pairs\n",
    "temp_E_pairs = [\n",
    "    (-20, 1000000000.0),  # 1 GPa (frozen soil)\n",
    "    (-10, 800000000.0),   # 800 MPa\n",
    "    (-5, 600000000.0),    # 600 MPa\n",
    "    (0, 400000000.0),     # 400 MPa\n",
    "    (5, 200000000.0),     # 200 MPa\n",
    "    (10, 100000000.0),    # 100 MPa\n",
    "    (20, 50000000.0)      # 50 MPa (thawed soil)\n",
    "]"
   ]
  },
  {
   "cell_type": "code",
   "execution_count": 45,
   "id": "2156c8a4-b387-4f85-9e7d-4962e64f3c9d",
   "metadata": {},
   "outputs": [],
   "source": [
    "# 11. Function to run analysis\n",
    "def run_analysis():\n",
    "    # Example temperature pairs for analysis\n",
    "    temp_values = [-7, -9, -5, 0, 5, 10, 15, 20, 25, 30, -10, -5, 0, 5, 10, 15, 20, 25, 30, 35, 40, 45, 24, 22, -15, 27, 38, 23, 33, 5, 25, -7,\n",
    "                  -15, 30, 10, -6, 0, -8, 0, -11, 42, -12, -13, 34, 38, -15, 24, 5, 33, 49, 18, -12, 9, 24, -8, 43, 37, 10, 26, 25, 16, -5, 49, -11, \n",
    "                   50, -2, 38, -5, 44, 12, 37, 0, 50, 4, 7, -7, 13, -13, 41, 10, 40, 42, 9, -7, 45, -12, 26, 24, -15, 36, 41, 25, 46, 5, 27, -9, 50,\n",
    "                   6, 41, 41, 13, -10, 17, 12, 40, -2, -9, 9, 15, 17, -8, 0, 13, 9, 20, 7, 15, 3, 36, 18, 3, 1, 46, 0, 13, 20, -1, -4, 41, 9, 5, 29]\n",
    "    \n",
    "    prev_temp_values = [-11, -1, 0, 5, 10, 15, 17, 20, 25, -5, 0, 3, 5, 10, 15, 20, 25, 30, 35, 27, 31, 40, 5, 4, 3, 43, 23, 2, -6, -14, -11, 8,\n",
    "                       8, -9, -12, -3, -6, 15, 0, 22, 25, 38, 33, 25, 28, -1, 41, 19, 29, 26, 10, 35, 45, 10, 0, 33, 8, 43, 5, -15, \n",
    "                        -15, -9, 30, 47, 24, 50, 23, 33, 23, -7, 7, 18, 13, -4, 35, 7, 50, -2, 10, 18, 19, -13, 13, 34, 23, -11, 49, \n",
    "                        36, -2, 33, 17, -9, 45, -5, 41, 15, 4, 34, 34, 38, 49, -11, 38, 23, 36, -6, 22, 18, -11, 41, \n",
    "                        30, 34, 17, -10, -11, 35, 33, 10, 23, 40, 45, 32, 8, 19, -10, 1, -8, 28, -1, 18, -2, 2]\n",
    "    \n",
    "    all_results = []  # List to store results for all analysis cycles\n",
    "\n",
    "    for temp, prev_temp in zip(temp_values, prev_temp_values):\n",
    "        # Step 1: Define the analysis parameters\n",
    "        # pipe_nodes = [1, 2, 3, 4, 5, 6, 7, 8]  # Example pipe nodes\n",
    "        # soil_nodes = [1, 2, 3, 4, 5, 6, 7, 8]  # Example soil nodes\n",
    "        burst_pressure = 345000000  # Example burst pressure\n",
    "        pipe_radius = 1.27  # Example pipe radius\n",
    "        spring_stiffness = 1.0e7  # Example spring stiffness\n",
    "        pipe_length = 100  # Example pipe length\n",
    "        nu_soil = 0.3  # Example Poisson's ratio for soil\n",
    "        E_pipe = 117000000000 # in Gpa\n",
    "        pipe_thickness = 0.2 #cm\n",
    "        nu_pipe = 0.33\n",
    "        rho_pipe = 8960\n",
    "\n",
    "        # Step 2: Run analysis for each temperature and previous temperature pair\n",
    "        burst_results = estimate_burst_location(pipe_nodes, burst_pressure, temp, prev_temp, pipe_radius, \n",
    "                                                spring_stiffness, pipe_length, nu_soil, E_pipe, pipe_thickness)\n",
    "        # Collect the results\n",
    "        all_results.append(burst_results)\n",
    "\n",
    "    # Step 3: Save results to Excel\n",
    "    output_path = 'burst_results_analyses.xlsx'\n",
    "    save_results_to_excel(all_results, temp_values, prev_temp_values, burst_pressure, output_path)\n",
    "    print(\"Results saved to:\", output_path)\n",
    "\n"
   ]
  },
  {
   "cell_type": "code",
   "execution_count": 46,
   "id": "ff2674bc-9ddb-4af5-adec-e8f8a91f69c5",
   "metadata": {},
   "outputs": [
    {
     "name": "stdout",
     "output_type": "stream",
     "text": [
      "[17, -2, 32, 48, 42, 13, 38, 43, 28, 32, 40, 37, -7, 45, -4, -3, 20, 25, 27, -5, 33, 14, 47, -4, 49, -7, -13, 45, 43, 42, 49, 6, 4, -4, 42, -5, 42, 0, -13, 29, 8, 47, 31, 22, 2, -11, 18, 36, 7, 30, -6, 47, 21, 31, 17, -8, 17, 36, 0, 10, 21, 4, 19, 49, -10, 37, 1, 22, -9, 27, 1, 31, 13, 10, 5, 47, 17, 37, 1, 30, -8, 33, 15, 5, 24, -7, 1, 27, 6, 15, -1, 43, -2, 2, -5, 33, 37, 33, 28, 3]\n",
      "[-12, -9, -3, 9, 48, 15, 41, 18, -5, -5, -2, -14, 17, 6, 4, 7, 23, 0, 39, 2, 34, 15, 17, 43, 34, 45, 27, -5, 7, 39, 26, 4, 14, -9, 31, 8, 15, 29, -13, 45, 14, -8, 8, 13, 19, 37, -5, 39, -14, 41, 20, 36, 38, 37, -2, 50, -12, 46, 11, 8, -1, 18, -6, -7, -5, 36, -9, 36, 28, 13, 17, 38, 28, 10, 47, 39, 27, 7, 6, 17, 31, 23, 38, 34, 46, 50, 12, 23, 0, 33, 20, 24, 20, 15, 11, 14, 25, -1, -15, 21]\n"
     ]
    }
   ],
   "source": [
    "random_temp_values = [random.randint(-15, 50) for _ in range(100)]\n",
    "random_prev_temp_values = [random.randint(-15, 50) for _ in range(100)]\n",
    "\n",
    "print(random_temp_values)\n",
    "print(random_prev_temp_values)"
   ]
  },
  {
   "cell_type": "code",
   "execution_count": 47,
   "id": "765cc3be-d04c-4fab-b4fb-d7218570ec57",
   "metadata": {},
   "outputs": [
    {
     "name": "stdout",
     "output_type": "stream",
     "text": [
      "Results saved to: burst_results_analyses.xlsx\n"
     ]
    }
   ],
   "source": [
    "# Call the function to run the analysis\n",
    "run_analysis()"
   ]
  },
  {
   "cell_type": "markdown",
   "id": "bc7a5ac1-4180-4ebc-9944-ca5877ec4c63",
   "metadata": {},
   "source": [
    "## Function to Visualize Soil and Pipe"
   ]
  },
  {
   "cell_type": "code",
   "execution_count": 48,
   "id": "590091b2-805a-4b0d-ba81-778cd8fa326e",
   "metadata": {},
   "outputs": [],
   "source": [
    "# 12. Function to visualize the soil and pipe\n",
    "def visualize_soil_and_pipe(soil_nodes, pipe_nodes, displacement=None):\n",
    "    fig = plt.figure()\n",
    "    ax = fig.add_subplot(111, projection='3d')\n",
    "    \n",
    "    # Plot the soil grid (just plot the nodes)\n",
    "    soil_x = [node[0] for node in soil_nodes.values()]\n",
    "    soil_y = [node[1] for node in soil_nodes.values()]\n",
    "    soil_z = [node[2] for node in soil_nodes.values()]\n",
    "    \n",
    "    ax.scatter(soil_x, soil_y, soil_z, color='blue', marker='o', s=20, label='Soil Nodes')\n",
    "\n",
    "    # Plot the pipe nodes\n",
    "    pipe_x = [node[0] for node in pipe_nodes]\n",
    "    pipe_y = [node[1] for node in pipe_nodes]\n",
    "    pipe_z = [node[2] for node in pipe_nodes]\n",
    "    \n",
    "    ax.scatter(pipe_x, pipe_y, pipe_z, color='brown', marker='x', s=50, label='Pipe Nodes')\n",
    "\n",
    "    # If displacement is provided, plot the displaced pipe nodes\n",
    "    if displacement is not None:\n",
    "        displaced_x = [pipe_nodes[i][0] + displacement[i][0] for i in range(len(pipe_nodes))]\n",
    "        displaced_y = [pipe_nodes[i][1] + displacement[i][1] for i in range(len(pipe_nodes))]\n",
    "        displaced_z = [pipe_nodes[i][2] + displacement[i][2] for i in range(len(pipe_nodes))]\n",
    "        \n",
    "        ax.scatter(displaced_x, displaced_y, displaced_z, color='g', marker='^', s=50, label='Displaced Pipe Nodes')\n",
    "\n",
    "    ax.set_xlabel('X')\n",
    "    ax.set_ylabel('Y')\n",
    "    ax.set_zlabel('Z')\n",
    "    ax.legend()\n",
    "    plt.show()"
   ]
  },
  {
   "cell_type": "code",
   "execution_count": 12,
   "id": "c3ddc954-968f-4e51-bf7f-0f3bd157ae14",
   "metadata": {},
   "outputs": [],
   "source": [
    "# visualize_soil_and_pipe(soil_nodes, pipe_nodes, displacement=None)"
   ]
  }
 ],
 "metadata": {
  "kernelspec": {
   "display_name": "Python 3 (ipykernel)",
   "language": "python",
   "name": "python3"
  },
  "language_info": {
   "codemirror_mode": {
    "name": "ipython",
    "version": 3
   },
   "file_extension": ".py",
   "mimetype": "text/x-python",
   "name": "python",
   "nbconvert_exporter": "python",
   "pygments_lexer": "ipython3",
   "version": "3.12.7"
  }
 },
 "nbformat": 4,
 "nbformat_minor": 5
}
