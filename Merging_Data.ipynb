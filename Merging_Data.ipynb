{
 "cells": [
  {
   "cell_type": "code",
   "execution_count": 1,
   "id": "1658595b-42bf-483a-8f6b-54b27df0a19f",
   "metadata": {},
   "outputs": [],
   "source": [
    "import pandas as pd"
   ]
  },
  {
   "cell_type": "code",
   "execution_count": 2,
   "id": "eef5b5ae-013e-499b-b186-cc70b4e2984c",
   "metadata": {},
   "outputs": [],
   "source": [
    "# File path of your Excel file (adjust this to your actual file path)\n",
    "file_path = r\"C:\\Users\\yomid\\Downloads\\Elasticity_Final_Report\\burst_results_analyses.xlsx\""
   ]
  },
  {
   "cell_type": "code",
   "execution_count": 3,
   "id": "08aacf68-c89a-4dcb-90c3-6a105dd0d925",
   "metadata": {},
   "outputs": [],
   "source": [
    "sheet_names = pd.ExcelFile(file_path).sheet_names  # Get all sheet names\n",
    "\n",
    "# Create an empty DataFrame to store merged data\n",
    "merged_data = pd.DataFrame()\n",
    "\n",
    "# Loop through all the sheets and merge\n",
    "for sheet in sheet_names:\n",
    "    # Read the current sheet into a DataFrame\n",
    "    df = pd.read_excel(file_path, sheet_name=sheet)\n",
    "    \n",
    "    # Optionally, add a column to track the source sheet name\n",
    "    df['Simulation Cycle'] = sheet\n",
    "    \n",
    "    # Concatenate the current sheet data to the merged_data DataFrame\n",
    "    merged_data = pd.concat([merged_data, df], ignore_index=True)\n",
    "\n",
    "\n",
    "\n"
   ]
  },
  {
   "cell_type": "code",
   "execution_count": 4,
   "id": "41fb234b-35cf-4cd1-a090-34e4a767499f",
   "metadata": {},
   "outputs": [],
   "source": [
    "# Optionally, you can save the merged data to a CSV file instead of Excel:\n",
    "merged_data.to_csv('new_merged_data.csv', index=False)"
   ]
  },
  {
   "cell_type": "code",
   "execution_count": 5,
   "id": "620aacf2-dd26-415b-a16b-5efd8d3f8166",
   "metadata": {},
   "outputs": [
    {
     "data": {
      "text/plain": [
       "'C:\\\\Users\\\\yomid\\\\Downloads\\\\Elasticity_Final_Report\\\\Elasticity_Project_Pins\\\\Code'"
      ]
     },
     "execution_count": 5,
     "metadata": {},
     "output_type": "execute_result"
    }
   ],
   "source": [
    "pwd()"
   ]
  },
  {
   "cell_type": "code",
   "execution_count": null,
   "id": "67e099f7-c65d-49ac-82f1-896d9c956cf6",
   "metadata": {},
   "outputs": [],
   "source": []
  }
 ],
 "metadata": {
  "kernelspec": {
   "display_name": "Python 3 (ipykernel)",
   "language": "python",
   "name": "python3"
  },
  "language_info": {
   "codemirror_mode": {
    "name": "ipython",
    "version": 3
   },
   "file_extension": ".py",
   "mimetype": "text/x-python",
   "name": "python",
   "nbconvert_exporter": "python",
   "pygments_lexer": "ipython3",
   "version": "3.12.7"
  }
 },
 "nbformat": 4,
 "nbformat_minor": 5
}
